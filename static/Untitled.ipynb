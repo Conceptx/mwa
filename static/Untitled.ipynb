{
 "cells": [
  {
   "cell_type": "code",
   "execution_count": 12,
   "metadata": {},
   "outputs": [],
   "source": [
    "import sqlite3 as sql\n",
    "\n",
    "con = sql.connect('Loan Profiles.db')\n",
    "cur = con.cursor()\n",
    "\n",
    "Uquery = \"UPDATE PAYMENTRECORDS SET PAID = PAID + 455 WHERE USERID = 0 AND LOANID = 0\"\n",
    "Lquery = \"UPDATE LOANTYPE SET AVAILABLE = AVAILABLE - 455 WHERE TYPE = 'Home'\"\n",
    "Pquery = \"UPDATE PAYMENT SET BALANCE = BALANCE - 455, TOTALPAID = TOTALPAID + 455 WHERE (USERID = 0 AND LOANID = 0) AND PAYMENTID = 0\"\n",
    "\n",
    "try:\n",
    "    cur.execute(Uquery)\n",
    "    cur.execute(Lquery)\n",
    "    cur.execute(Pquery)\n",
    "    \n",
    "    con.commit()\n",
    "except:\n",
    "    raise\n",
    "    \n",
    "finally:\n",
    "    con.close()\n",
    "\n"
   ]
  },
  {
   "cell_type": "code",
   "execution_count": null,
   "metadata": {
    "collapsed": true
   },
   "outputs": [],
   "source": []
  }
 ],
 "metadata": {
  "kernelspec": {
   "display_name": "Python 3",
   "language": "python",
   "name": "python3"
  },
  "language_info": {
   "codemirror_mode": {
    "name": "ipython",
    "version": 3
   },
   "file_extension": ".py",
   "mimetype": "text/x-python",
   "name": "python",
   "nbconvert_exporter": "python",
   "pygments_lexer": "ipython3",
   "version": "3.6.3"
  }
 },
 "nbformat": 4,
 "nbformat_minor": 2
}
