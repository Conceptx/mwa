{
 "cells": [
  {
   "cell_type": "code",
   "execution_count": 2,
   "metadata": {},
   "outputs": [
    {
     "name": "stdout",
     "output_type": "stream",
     "text": [
      "Enter amount paid: 300\n",
      "Enter sector: Agric\n"
     ]
    }
   ],
   "source": [
    "import pandas as pd\n",
    "import sqlite3 as sql\n",
    "\n",
    "paid = int(input(\"Enter amount paid: \"))\n",
    "ltype = input('Enter sector: ')\n",
    "\n",
    "#Queries\n",
    "\n",
    "Uquery = \"UPDATE PAYMENTRECORDS SET PAID = PAID + '{0}' WHERE (USERID = 0 AND LOANID = 0) AND PAYMENTID = 0\".format(paid)\n",
    "Pquery = \"UPDATE PAYMENT SET BALANCE = BALANCE - '{0}', TOTALPAID = TOTALPAID + '{0}' WHERE PAYMENTID = 0\".format(paid) \n",
    "Lquery = \"UPDATE LOANTYPE SET AVAILABLE = AVAILABLE - '{0}' WHERE TYPE = '{1}'\".format(paid, ltype)\n",
    "\n",
    "#DB connect\n",
    "\n",
    "con = sql.connect('Loan Profiles.db')\n",
    "cur = con.cursor()\n",
    "\n",
    "try:\n",
    "    cur.execute(Uquery)\n",
    "    cur.execute(Pquery)\n",
    "    cur.execute(Lquery)\n",
    "    \n",
    "    con.commit()\n",
    "    \n",
    "except:\n",
    "    pass\n",
    "\n",
    "finally:\n",
    "    con.close()"
   ]
  },
  {
   "cell_type": "code",
   "execution_count": 30,
   "metadata": {},
   "outputs": [
    {
     "name": "stdout",
     "output_type": "stream",
     "text": [
      "1\n",
      "1\n",
      "7000\n",
      "12\n",
      "15\n",
      "0.01\n",
      "504.8664612943532\n"
     ]
    }
   ],
   "source": [
    "def getID(username):\n",
    "    \n",
    "    con = sql.connect(dbpath)\n",
    "    cur = con.cursor()\n",
    "    \n",
    "    query = \"SELECT USERID FROM CREDENTIALS WHERE USERNAME = '{0}'\".format(username)\n",
    "    cur.execute(query)\n",
    "    rows = cur.fetchall()\n",
    "    con.close()\n",
    "    \n",
    "    userid = 0\n",
    "    \n",
    "    for row in rows:\n",
    "        userid = row[0]\n",
    "    return userid\n",
    "\n",
    "def instalment():\n",
    "    \n",
    "    userid = getID(username)\n",
    "    \n",
    "    interest = 0\n",
    "    amount = 0\n",
    "    loanid = 0\n",
    "    \n",
    "    con = sql.connect(dbpath)\n",
    "    cur = con.cursor()\n",
    "    \n",
    "    query = \"SELECT * FROM LOAN WHERE USERID = '{}'\".format(userid)\n",
    "    cur.execute(query)\n",
    "    rows = cur.fetchall()\n",
    "    \n",
    "    for row in rows:\n",
    "        loanid = row[0]\n",
    "        amount = row[1]\n",
    "        interest = row[2]\n",
    "    con.close()\n",
    "    \n",
    "    \n",
    "    #new query\n",
    "    mtp = 0\n",
    "    con = sql.connect(dbpath)\n",
    "    cur = con.cursor()\n",
    "    query = \"SELECT MTP FROM LOANTYPE WHERE INTEREST = '{}'\".format(interest)\n",
    "    cur.execute(query)\n",
    "    rows = cur.fetchall()\n",
    "    \n",
    "    for row in rows:\n",
    "        mtp = row[0]\n",
    "    con.close()\n",
    "    \n",
    "    rate = (interest / 12)/100\n",
    "    instalment = amount * (rate * (1+rate)**mtp)/((1+rate)**mtp-1)\n",
    "    \n",
    "    return instalment\n",
    "    "
   ]
  },
  {
   "cell_type": "code",
   "execution_count": null,
   "metadata": {
    "collapsed": true
   },
   "outputs": [],
   "source": []
  }
 ],
 "metadata": {
  "kernelspec": {
   "display_name": "Python 3",
   "language": "python",
   "name": "python3"
  },
  "language_info": {
   "codemirror_mode": {
    "name": "ipython",
    "version": 3
   },
   "file_extension": ".py",
   "mimetype": "text/x-python",
   "name": "python",
   "nbconvert_exporter": "python",
   "pygments_lexer": "ipython3",
   "version": "3.6.3"
  }
 },
 "nbformat": 4,
 "nbformat_minor": 2
}
